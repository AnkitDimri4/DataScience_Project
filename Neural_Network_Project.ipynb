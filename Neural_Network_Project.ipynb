{
 "cells": [
  {
<<<<<<< HEAD
   "cell_type": "markdown",
   "id": "95202a94",
   "metadata": {},
   "source": [
    "### **Training a Neural Network to Recognize Images of Letters A, B, and C**\n"
   ]
  },
  {
   "cell_type": "code",
   "execution_count": 47,
=======
   "cell_type": "code",
   "execution_count": 70,
>>>>>>> origin/main
   "id": "fb3fa832-1246-4579-97f6-eb9c921c9a5f",
   "metadata": {},
   "outputs": [],
   "source": [
<<<<<<< HEAD
    "import numpy as np\n",
    "import matplotlib.pyplot as plt"
   ]
  },
  {
   "cell_type": "markdown",
   "id": "6d488e89",
   "metadata": {},
   "source": [
    "### **Dataset Description**\n",
    "**The dataset consists of binary images (represented as lists of 0s and 1s) of letters A, B, and C.**"
=======
    "#Train a neural network to recognize images of letters A, B and C"
>>>>>>> origin/main
   ]
  },
  {
   "cell_type": "code",
<<<<<<< HEAD
   "execution_count": 48,
=======
   "execution_count": 71,
>>>>>>> origin/main
   "id": "6dd9f544-f5ee-4aab-a8b7-66248e1c1658",
   "metadata": {},
   "outputs": [],
   "source": [
<<<<<<< HEAD
=======
    "#dataset \n",
    "\n",
>>>>>>> origin/main
    "#A \n",
    "a= [0, 0, 1, 1, 0, 0,\n",
    "    0, 1, 0, 0, 1, 0,\n",
    "    1, 1, 1, 1, 1, 1,\n",
    "    1, 0, 0, 0, 0, 1,\n",
    "    1, 0, 0, 0, 0, 1]\n",
    "\n",
    "#B\n",
    "b= [0, 1, 1, 1, 1, 0,\n",
    "    0, 1, 0, 0, 1, 0,\n",
    "    0, 1, 1, 1, 1, 0,\n",
    "    0, 1, 0, 0, 1, 0,\n",
    "    0, 1, 1, 1, 1, 0]\n",
    "\n",
    "#C\n",
    "c= [0, 1, 1, 1, 1, 0,\n",
    "    0, 1, 0, 0, 0, 0,\n",
    "    0, 1, 0, 0, 0, 0,\n",
    "    0, 1, 0, 0, 0, 0,\n",
    "    0, 1, 1, 1, 1, 0]"
   ]
  },
  {
<<<<<<< HEAD
   "cell_type": "markdown",
   "id": "d52820f9",
   "metadata": {},
   "source": [
    "### **CREATE LABELS**"
   ]
  },
  {
   "cell_type": "code",
   "execution_count": 49,
=======
   "cell_type": "code",
   "execution_count": 72,
>>>>>>> origin/main
   "id": "4b621262-1900-41db-bd38-23256f0bd1f6",
   "metadata": {},
   "outputs": [],
   "source": [
<<<<<<< HEAD
    "\n",
=======
    "# CREATE LABELS\n",
>>>>>>> origin/main
    "y = [[1, 0, 0],\n",
    "    [0, 1, 0],\n",
    "    [0, 0, 1]]\n",
    "     "
   ]
  },
  {
<<<<<<< HEAD
   "cell_type": "markdown",
   "id": "415dd91c",
   "metadata": {},
   "source": [
    "### **Visualize data**"
=======
   "cell_type": "code",
   "execution_count": 73,
   "id": "2d023bb1-ec70-47b2-9137-815d580fd323",
   "metadata": {},
   "outputs": [],
   "source": [
    "import numpy as np\n",
    "import matplotlib.pyplot as plt"
>>>>>>> origin/main
   ]
  },
  {
   "cell_type": "code",
<<<<<<< HEAD
   "execution_count": 50,
=======
   "execution_count": 74,
>>>>>>> origin/main
   "id": "3ec9fb4f-90d8-456a-9e9f-c6c83690405c",
   "metadata": {},
   "outputs": [
    {
     "data": {
      "text/plain": [
       "<function matplotlib.pyplot.show(close=None, block=None)>"
      ]
     },
<<<<<<< HEAD
     "execution_count": 50,
=======
     "execution_count": 74,
>>>>>>> origin/main
     "metadata": {},
     "output_type": "execute_result"
    },
    {
     "data": {
<<<<<<< HEAD
      "image/png": "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",
=======
      "image/png": "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",
>>>>>>> origin/main
      "text/plain": [
       "<Figure size 640x480 with 1 Axes>"
      ]
     },
     "metadata": {},
     "output_type": "display_data"
    }
   ],
   "source": [
<<<<<<< HEAD
=======
    "# visualize thz data\n",
>>>>>>> origin/main
    "plt.imshow(np.array(a).reshape(5,6))\n",
    "plt.show"
   ]
  },
  {
<<<<<<< HEAD
   "cell_type": "markdown",
   "id": "f460e842",
   "metadata": {},
   "source": [
    "### **Convert data and labels into numpy arrays**"
   ]
  },
  {
   "cell_type": "code",
   "execution_count": 51,
=======
   "cell_type": "code",
   "execution_count": 75,
>>>>>>> origin/main
   "id": "9f3fce3e-9074-4535-9000-2be64e776756",
   "metadata": {},
   "outputs": [
    {
     "name": "stdout",
     "output_type": "stream",
     "text": [
      "[[0 0 1 1 0 0 0 1 0 0 1 0 1 1 1 1 1 1 1 0 0 0 0 1 1 0 0 0 0 1]\n",
      " [0 1 1 1 1 0 0 1 0 0 1 0 0 1 1 1 1 0 0 1 0 0 1 0 0 1 1 1 1 0]\n",
      " [0 1 1 1 1 0 0 1 0 0 0 0 0 1 0 0 0 0 0 1 0 0 0 0 0 1 1 1 1 0]] \n",
      "\n",
      " [[1 0 0]\n",
      " [0 1 0]\n",
      " [0 0 1]]\n"
     ]
    }
   ],
   "source": [
<<<<<<< HEAD
=======
    "# convert data and labels into numpy arrays\n",
>>>>>>> origin/main
    "x= [np.array(a).reshape(1,30), np.array(b).reshape(1,30), np.array(c).reshape(1,30)]\n",
    "x = np.vstack(x)  # Combine into one array\n",
    "y = np.array(y)\n",
    "print(x, '\\n\\n', y)\n"
   ]
  },
  {
   "cell_type": "code",
<<<<<<< HEAD
   "execution_count": 52,
=======
   "execution_count": 76,
>>>>>>> origin/main
   "id": "09a496b7-0342-4cc3-ada9-40daad1b4510",
   "metadata": {},
   "outputs": [],
   "source": [
    "# input (1,30)\n",
    "#hidden (1, 5)\n",
    "#output(3,3)"
   ]
  },
  {
<<<<<<< HEAD
   "cell_type": "markdown",
   "id": "ccaf18e0",
   "metadata": {},
   "source": [
    "### **Define activation function**"
   ]
  },
  {
   "cell_type": "code",
   "execution_count": 53,
=======
   "cell_type": "code",
   "execution_count": 77,
>>>>>>> origin/main
   "id": "5208e39f-dae6-4c5c-97e3-e4b48e5bfede",
   "metadata": {},
   "outputs": [],
   "source": [
<<<<<<< HEAD
=======
    "#activation function\n",
>>>>>>> origin/main
    "def sigmoid(x):\n",
    "    return(1/(1+np.exp(-x)))"
   ]
  },
  {
<<<<<<< HEAD
   "cell_type": "markdown",
   "id": "6e3fc0d8",
   "metadata": {},
   "source": [
    "### **Forward propagation**"
   ]
  },
  {
   "cell_type": "code",
   "execution_count": 54,
=======
   "cell_type": "code",
   "execution_count": 78,
>>>>>>> origin/main
   "id": "323273d6-aa0a-42c4-91f8-9b0542d92d29",
   "metadata": {},
   "outputs": [],
   "source": [
<<<<<<< HEAD
    "\n",
=======
    "#creation of forword neural network\n",
>>>>>>> origin/main
    "def f_forward(x, w1, w2):\n",
    "    #hidden layer\n",
    "    z1 = x.dot(w1)\n",
    "    a1 = sigmoid(z1)\n",
    "\n",
    "    #output layer\n",
    "    z2 = a1.dot(w2)\n",
    "    a2 = sigmoid(z2)\n",
    "    return(a2)\n"
   ]
  },
  {
<<<<<<< HEAD
   "cell_type": "markdown",
   "id": "24bae02d",
   "metadata": {},
   "source": [
    "### **Initialize weights**"
   ]
  },
  {
   "cell_type": "code",
   "execution_count": 55,
=======
   "cell_type": "code",
   "execution_count": 79,
>>>>>>> origin/main
   "id": "c5b27795-58fb-460a-a02f-7afc1fe82b2d",
   "metadata": {},
   "outputs": [],
   "source": [
<<<<<<< HEAD
=======
    "# Initialize the weights\n",
>>>>>>> origin/main
    "def generate_wt(x, y):\n",
    "    return np.random.randn(x, y)\n"
   ]
  },
  {
<<<<<<< HEAD
   "cell_type": "markdown",
   "id": "e52bd83a",
   "metadata": {},
   "source": [
    "### **Loss function**"
   ]
  },
  {
   "cell_type": "code",
   "execution_count": 56,
=======
   "cell_type": "code",
   "execution_count": 80,
>>>>>>> origin/main
   "id": "02bee14f-34d4-471c-aabf-6eb0db3c7385",
   "metadata": {},
   "outputs": [],
   "source": [
<<<<<<< HEAD
=======
    "# Loss function\n",
>>>>>>> origin/main
    "def loss(out, Y):\n",
    "    s = np.square(out - Y)\n",
    "    s = np.sum(s) / len(Y)\n",
    "    return s"
   ]
  },
  {
<<<<<<< HEAD
   "cell_type": "markdown",
   "id": "ac4e6401",
   "metadata": {},
   "source": [
    "### **Backpropagation**"
   ]
  },
  {
   "cell_type": "code",
   "execution_count": 57,
=======
   "cell_type": "code",
   "execution_count": 81,
>>>>>>> origin/main
   "id": "d6f46eac-244d-49f9-8a4e-078bfb239cf3",
   "metadata": {},
   "outputs": [],
   "source": [
<<<<<<< HEAD
=======
    "#back propagation\n",
>>>>>>> origin/main
    "def back_prop(x, y, w1, w2, alpha):\n",
    "    #hidden\n",
    "    z1 = x.dot(w1)\n",
    "    a1 = sigmoid(z1)\n",
    "    #output layer\n",
    "    z2 = a1.dot(w2)\n",
    "    a2 = sigmoid(z2)\n",
    "\n",
    "    d2 = (a2 - y)\n",
    "    d1 = np.multiply((w2.dot(d2.T)).T, np.multiply(a1, 1 - a1))\n",
    "\n",
    "    #gradient\n",
    "    w1_adj = x.transpose().dot(d1)\n",
    "    w2_adj = a1.transpose().dot(d2)\n",
    "\n",
    "    w1 = w1 - (alpha*(w1_adj))\n",
    "    w2 = w2 - (alpha*(w2_adj))\n",
    "\n",
    "    return (w1, w2)\n"
   ]
  },
  {
<<<<<<< HEAD
   "cell_type": "markdown",
   "id": "ee721e4e",
   "metadata": {},
   "source": [
    "### **Training function**"
   ]
  },
  {
   "cell_type": "code",
   "execution_count": 58,
=======
   "cell_type": "code",
   "execution_count": 82,
>>>>>>> origin/main
   "id": "3de23bac-b85c-445d-a601-cc96aa43b918",
   "metadata": {},
   "outputs": [],
   "source": [
<<<<<<< HEAD
=======
    "# Training function\n",
>>>>>>> origin/main
    "def train(x, Y, w1, w2, alpha=0.01, epochs=10):\n",
    "    acc = []\n",
    "    losses = []\n",
    "    for j in range(epochs):\n",
    "        l = []\n",
    "        for i in range(len(x)):\n",
    "            out = f_forward(x[i].reshape(1, -1), w1, w2)  # Reshape x[i] to 2D array\n",
    "            l.append(loss(out, Y[i]))\n",
    "            w1, w2 = back_prop(x[i].reshape(1, -1), Y[i], w1, w2, alpha)  # Reshape x[i] to 2D array\n",
    "        avg_loss = sum(l) / len(x)\n",
    "        accuracy = (1 - avg_loss) * 100\n",
    "        print(f\"Epoch: {j + 1}, Accuracy: {accuracy:.2f}%, Loss: {avg_loss:.4f}\")\n",
    "        acc.append(accuracy)\n",
    "        losses.append(avg_loss)\n",
    "    return acc, losses, w1, w2\n"
   ]
  },
  {
<<<<<<< HEAD
   "cell_type": "markdown",
   "id": "c8be727a",
   "metadata": {},
   "source": [
    "### **Prediction function**"
   ]
  },
  {
   "cell_type": "code",
   "execution_count": 59,
=======
   "cell_type": "code",
   "execution_count": 83,
>>>>>>> origin/main
   "id": "d7545d52-ce5d-401a-86ea-867adaf8dbf1",
   "metadata": {},
   "outputs": [],
   "source": [
<<<<<<< HEAD
=======
    "# Prediction function\n",
>>>>>>> origin/main
    "def predict(x, w1, w2):\n",
    "    out = f_forward(x, w1, w2)\n",
    "    prediction = np.argmax(out)\n",
    "    if prediction == 0:\n",
    "        print(\"Image is of letter A\")\n",
    "    elif prediction == 1:\n",
    "        print(\"Image is of letter B\")\n",
    "    else:\n",
    "        print(\"Image is of letter C\")\n",
    "    plt.imshow(x.reshape(5, 6))\n",
    "    plt.show()"
   ]
  },
  {
<<<<<<< HEAD
   "cell_type": "markdown",
   "id": "a3ff1114",
   "metadata": {},
   "source": [
    "### **Initialize weights**"
   ]
  },
  {
   "cell_type": "code",
   "execution_count": 60,
=======
   "cell_type": "code",
   "execution_count": 84,
>>>>>>> origin/main
   "id": "10bcefb0-8e25-4e68-8fad-903cbfa133af",
   "metadata": {},
   "outputs": [],
   "source": [
<<<<<<< HEAD
=======
    "# Initialize weights\n",
>>>>>>> origin/main
    "w1 = generate_wt(30, 5)\n",
    "w2 = generate_wt(5, 3)"
   ]
  },
  {
<<<<<<< HEAD
   "cell_type": "markdown",
   "id": "bae6a6e7",
   "metadata": {},
   "source": [
    "### **Train the network**"
   ]
  },
  {
   "cell_type": "code",
   "execution_count": 61,
=======
   "cell_type": "code",
   "execution_count": 85,
>>>>>>> origin/main
   "id": "7f41253a-fc19-434e-913e-2f5be42381a9",
   "metadata": {},
   "outputs": [
    {
     "name": "stdout",
     "output_type": "stream",
     "text": [
<<<<<<< HEAD
      "Epoch: 1, Accuracy: 58.41%, Loss: 0.4159\n",
      "Epoch: 2, Accuracy: 62.70%, Loss: 0.3730\n",
      "Epoch: 3, Accuracy: 66.99%, Loss: 0.3301\n",
      "Epoch: 4, Accuracy: 70.75%, Loss: 0.2925\n",
      "Epoch: 5, Accuracy: 73.54%, Loss: 0.2646\n",
      "Epoch: 6, Accuracy: 75.51%, Loss: 0.2449\n",
      "Epoch: 7, Accuracy: 76.98%, Loss: 0.2302\n",
      "Epoch: 8, Accuracy: 78.15%, Loss: 0.2185\n",
      "Epoch: 9, Accuracy: 79.12%, Loss: 0.2088\n",
      "Epoch: 10, Accuracy: 79.94%, Loss: 0.2006\n",
      "Epoch: 11, Accuracy: 80.64%, Loss: 0.1936\n",
      "Epoch: 12, Accuracy: 81.26%, Loss: 0.1874\n",
      "Epoch: 13, Accuracy: 81.80%, Loss: 0.1820\n",
      "Epoch: 14, Accuracy: 82.28%, Loss: 0.1772\n",
      "Epoch: 15, Accuracy: 82.72%, Loss: 0.1728\n",
      "Epoch: 16, Accuracy: 83.12%, Loss: 0.1688\n",
      "Epoch: 17, Accuracy: 83.48%, Loss: 0.1652\n",
      "Epoch: 18, Accuracy: 83.82%, Loss: 0.1618\n",
      "Epoch: 19, Accuracy: 84.14%, Loss: 0.1586\n",
      "Epoch: 20, Accuracy: 84.44%, Loss: 0.1556\n",
      "Epoch: 21, Accuracy: 84.73%, Loss: 0.1527\n",
      "Epoch: 22, Accuracy: 85.02%, Loss: 0.1498\n",
      "Epoch: 23, Accuracy: 85.29%, Loss: 0.1471\n",
      "Epoch: 24, Accuracy: 85.57%, Loss: 0.1443\n",
      "Epoch: 25, Accuracy: 85.83%, Loss: 0.1417\n",
      "Epoch: 26, Accuracy: 86.10%, Loss: 0.1390\n",
      "Epoch: 27, Accuracy: 86.36%, Loss: 0.1364\n",
      "Epoch: 28, Accuracy: 86.62%, Loss: 0.1338\n",
      "Epoch: 29, Accuracy: 86.87%, Loss: 0.1313\n",
      "Epoch: 30, Accuracy: 87.13%, Loss: 0.1287\n",
      "Epoch: 31, Accuracy: 87.38%, Loss: 0.1262\n",
      "Epoch: 32, Accuracy: 87.63%, Loss: 0.1237\n",
      "Epoch: 33, Accuracy: 87.88%, Loss: 0.1212\n",
      "Epoch: 34, Accuracy: 88.13%, Loss: 0.1187\n",
      "Epoch: 35, Accuracy: 88.38%, Loss: 0.1162\n",
      "Epoch: 36, Accuracy: 88.62%, Loss: 0.1138\n",
      "Epoch: 37, Accuracy: 88.86%, Loss: 0.1114\n",
      "Epoch: 38, Accuracy: 89.10%, Loss: 0.1090\n",
      "Epoch: 39, Accuracy: 89.34%, Loss: 0.1066\n",
      "Epoch: 40, Accuracy: 89.58%, Loss: 0.1042\n",
      "Epoch: 41, Accuracy: 89.81%, Loss: 0.1019\n",
      "Epoch: 42, Accuracy: 90.04%, Loss: 0.0996\n",
      "Epoch: 43, Accuracy: 90.27%, Loss: 0.0973\n",
      "Epoch: 44, Accuracy: 90.49%, Loss: 0.0951\n",
      "Epoch: 45, Accuracy: 90.72%, Loss: 0.0928\n",
      "Epoch: 46, Accuracy: 90.93%, Loss: 0.0907\n",
      "Epoch: 47, Accuracy: 91.15%, Loss: 0.0885\n",
      "Epoch: 48, Accuracy: 91.36%, Loss: 0.0864\n",
      "Epoch: 49, Accuracy: 91.57%, Loss: 0.0843\n",
      "Epoch: 50, Accuracy: 91.78%, Loss: 0.0822\n",
      "Epoch: 51, Accuracy: 91.98%, Loss: 0.0802\n",
      "Epoch: 52, Accuracy: 92.18%, Loss: 0.0782\n",
      "Epoch: 53, Accuracy: 92.37%, Loss: 0.0763\n",
      "Epoch: 54, Accuracy: 92.56%, Loss: 0.0744\n",
      "Epoch: 55, Accuracy: 92.74%, Loss: 0.0726\n",
      "Epoch: 56, Accuracy: 92.93%, Loss: 0.0707\n",
      "Epoch: 57, Accuracy: 93.10%, Loss: 0.0690\n",
      "Epoch: 58, Accuracy: 93.28%, Loss: 0.0672\n",
      "Epoch: 59, Accuracy: 93.45%, Loss: 0.0655\n",
      "Epoch: 60, Accuracy: 93.61%, Loss: 0.0639\n",
      "Epoch: 61, Accuracy: 93.78%, Loss: 0.0622\n",
      "Epoch: 62, Accuracy: 93.93%, Loss: 0.0607\n",
      "Epoch: 63, Accuracy: 94.09%, Loss: 0.0591\n",
      "Epoch: 64, Accuracy: 94.24%, Loss: 0.0576\n",
      "Epoch: 65, Accuracy: 94.38%, Loss: 0.0562\n",
      "Epoch: 66, Accuracy: 94.53%, Loss: 0.0547\n",
      "Epoch: 67, Accuracy: 94.66%, Loss: 0.0534\n",
      "Epoch: 68, Accuracy: 94.80%, Loss: 0.0520\n",
      "Epoch: 69, Accuracy: 94.93%, Loss: 0.0507\n",
      "Epoch: 70, Accuracy: 95.06%, Loss: 0.0494\n",
      "Epoch: 71, Accuracy: 95.18%, Loss: 0.0482\n",
      "Epoch: 72, Accuracy: 95.30%, Loss: 0.0470\n",
      "Epoch: 73, Accuracy: 95.42%, Loss: 0.0458\n",
      "Epoch: 74, Accuracy: 95.53%, Loss: 0.0447\n",
      "Epoch: 75, Accuracy: 95.65%, Loss: 0.0435\n",
      "Epoch: 76, Accuracy: 95.75%, Loss: 0.0425\n",
      "Epoch: 77, Accuracy: 95.86%, Loss: 0.0414\n",
      "Epoch: 78, Accuracy: 95.96%, Loss: 0.0404\n",
      "Epoch: 79, Accuracy: 96.06%, Loss: 0.0394\n",
      "Epoch: 80, Accuracy: 96.15%, Loss: 0.0385\n",
      "Epoch: 81, Accuracy: 96.25%, Loss: 0.0375\n",
      "Epoch: 82, Accuracy: 96.34%, Loss: 0.0366\n",
      "Epoch: 83, Accuracy: 96.42%, Loss: 0.0358\n",
      "Epoch: 84, Accuracy: 96.51%, Loss: 0.0349\n",
      "Epoch: 85, Accuracy: 96.59%, Loss: 0.0341\n",
      "Epoch: 86, Accuracy: 96.67%, Loss: 0.0333\n",
      "Epoch: 87, Accuracy: 96.75%, Loss: 0.0325\n",
      "Epoch: 88, Accuracy: 96.83%, Loss: 0.0317\n",
      "Epoch: 89, Accuracy: 96.90%, Loss: 0.0310\n",
      "Epoch: 90, Accuracy: 96.97%, Loss: 0.0303\n",
      "Epoch: 91, Accuracy: 97.04%, Loss: 0.0296\n",
      "Epoch: 92, Accuracy: 97.11%, Loss: 0.0289\n",
      "Epoch: 93, Accuracy: 97.17%, Loss: 0.0283\n",
      "Epoch: 94, Accuracy: 97.24%, Loss: 0.0276\n",
      "Epoch: 95, Accuracy: 97.30%, Loss: 0.0270\n",
      "Epoch: 96, Accuracy: 97.36%, Loss: 0.0264\n",
      "Epoch: 97, Accuracy: 97.42%, Loss: 0.0258\n",
      "Epoch: 98, Accuracy: 97.48%, Loss: 0.0252\n",
      "Epoch: 99, Accuracy: 97.53%, Loss: 0.0247\n",
      "Epoch: 100, Accuracy: 97.58%, Loss: 0.0242\n"
=======
      "Epoch: 1, Accuracy: 66.84%, Loss: 0.3316\n",
      "Epoch: 2, Accuracy: 68.76%, Loss: 0.3124\n",
      "Epoch: 3, Accuracy: 70.46%, Loss: 0.2954\n",
      "Epoch: 4, Accuracy: 72.06%, Loss: 0.2794\n",
      "Epoch: 5, Accuracy: 73.55%, Loss: 0.2645\n",
      "Epoch: 6, Accuracy: 74.85%, Loss: 0.2515\n",
      "Epoch: 7, Accuracy: 75.95%, Loss: 0.2405\n",
      "Epoch: 8, Accuracy: 76.90%, Loss: 0.2310\n",
      "Epoch: 9, Accuracy: 77.73%, Loss: 0.2227\n",
      "Epoch: 10, Accuracy: 78.48%, Loss: 0.2152\n",
      "Epoch: 11, Accuracy: 79.17%, Loss: 0.2083\n",
      "Epoch: 12, Accuracy: 79.82%, Loss: 0.2018\n",
      "Epoch: 13, Accuracy: 80.43%, Loss: 0.1957\n",
      "Epoch: 14, Accuracy: 81.01%, Loss: 0.1899\n",
      "Epoch: 15, Accuracy: 81.57%, Loss: 0.1843\n",
      "Epoch: 16, Accuracy: 82.10%, Loss: 0.1790\n",
      "Epoch: 17, Accuracy: 82.61%, Loss: 0.1739\n",
      "Epoch: 18, Accuracy: 83.09%, Loss: 0.1691\n",
      "Epoch: 19, Accuracy: 83.55%, Loss: 0.1645\n",
      "Epoch: 20, Accuracy: 83.98%, Loss: 0.1602\n",
      "Epoch: 21, Accuracy: 84.39%, Loss: 0.1561\n",
      "Epoch: 22, Accuracy: 84.78%, Loss: 0.1522\n",
      "Epoch: 23, Accuracy: 85.14%, Loss: 0.1486\n",
      "Epoch: 24, Accuracy: 85.48%, Loss: 0.1452\n",
      "Epoch: 25, Accuracy: 85.81%, Loss: 0.1419\n",
      "Epoch: 26, Accuracy: 86.12%, Loss: 0.1388\n",
      "Epoch: 27, Accuracy: 86.40%, Loss: 0.1360\n",
      "Epoch: 28, Accuracy: 86.68%, Loss: 0.1332\n",
      "Epoch: 29, Accuracy: 86.94%, Loss: 0.1306\n",
      "Epoch: 30, Accuracy: 87.18%, Loss: 0.1282\n",
      "Epoch: 31, Accuracy: 87.42%, Loss: 0.1258\n",
      "Epoch: 32, Accuracy: 87.64%, Loss: 0.1236\n",
      "Epoch: 33, Accuracy: 87.86%, Loss: 0.1214\n",
      "Epoch: 34, Accuracy: 88.06%, Loss: 0.1194\n",
      "Epoch: 35, Accuracy: 88.26%, Loss: 0.1174\n",
      "Epoch: 36, Accuracy: 88.45%, Loss: 0.1155\n",
      "Epoch: 37, Accuracy: 88.63%, Loss: 0.1137\n",
      "Epoch: 38, Accuracy: 88.81%, Loss: 0.1119\n",
      "Epoch: 39, Accuracy: 88.98%, Loss: 0.1102\n",
      "Epoch: 40, Accuracy: 89.15%, Loss: 0.1085\n",
      "Epoch: 41, Accuracy: 89.31%, Loss: 0.1069\n",
      "Epoch: 42, Accuracy: 89.47%, Loss: 0.1053\n",
      "Epoch: 43, Accuracy: 89.63%, Loss: 0.1037\n",
      "Epoch: 44, Accuracy: 89.78%, Loss: 0.1022\n",
      "Epoch: 45, Accuracy: 89.93%, Loss: 0.1007\n",
      "Epoch: 46, Accuracy: 90.07%, Loss: 0.0993\n",
      "Epoch: 47, Accuracy: 90.21%, Loss: 0.0979\n",
      "Epoch: 48, Accuracy: 90.35%, Loss: 0.0965\n",
      "Epoch: 49, Accuracy: 90.49%, Loss: 0.0951\n",
      "Epoch: 50, Accuracy: 90.63%, Loss: 0.0937\n",
      "Epoch: 51, Accuracy: 90.76%, Loss: 0.0924\n",
      "Epoch: 52, Accuracy: 90.89%, Loss: 0.0911\n",
      "Epoch: 53, Accuracy: 91.02%, Loss: 0.0898\n",
      "Epoch: 54, Accuracy: 91.15%, Loss: 0.0885\n",
      "Epoch: 55, Accuracy: 91.27%, Loss: 0.0873\n",
      "Epoch: 56, Accuracy: 91.40%, Loss: 0.0860\n",
      "Epoch: 57, Accuracy: 91.52%, Loss: 0.0848\n",
      "Epoch: 58, Accuracy: 91.64%, Loss: 0.0836\n",
      "Epoch: 59, Accuracy: 91.76%, Loss: 0.0824\n",
      "Epoch: 60, Accuracy: 91.88%, Loss: 0.0812\n",
      "Epoch: 61, Accuracy: 92.00%, Loss: 0.0800\n",
      "Epoch: 62, Accuracy: 92.11%, Loss: 0.0789\n",
      "Epoch: 63, Accuracy: 92.23%, Loss: 0.0777\n",
      "Epoch: 64, Accuracy: 92.34%, Loss: 0.0766\n",
      "Epoch: 65, Accuracy: 92.45%, Loss: 0.0755\n",
      "Epoch: 66, Accuracy: 92.56%, Loss: 0.0744\n",
      "Epoch: 67, Accuracy: 92.67%, Loss: 0.0733\n",
      "Epoch: 68, Accuracy: 92.78%, Loss: 0.0722\n",
      "Epoch: 69, Accuracy: 92.89%, Loss: 0.0711\n",
      "Epoch: 70, Accuracy: 92.99%, Loss: 0.0701\n",
      "Epoch: 71, Accuracy: 93.10%, Loss: 0.0690\n",
      "Epoch: 72, Accuracy: 93.20%, Loss: 0.0680\n",
      "Epoch: 73, Accuracy: 93.31%, Loss: 0.0669\n",
      "Epoch: 74, Accuracy: 93.41%, Loss: 0.0659\n",
      "Epoch: 75, Accuracy: 93.51%, Loss: 0.0649\n",
      "Epoch: 76, Accuracy: 93.61%, Loss: 0.0639\n",
      "Epoch: 77, Accuracy: 93.71%, Loss: 0.0629\n",
      "Epoch: 78, Accuracy: 93.80%, Loss: 0.0620\n",
      "Epoch: 79, Accuracy: 93.90%, Loss: 0.0610\n",
      "Epoch: 80, Accuracy: 93.99%, Loss: 0.0601\n",
      "Epoch: 81, Accuracy: 94.09%, Loss: 0.0591\n",
      "Epoch: 82, Accuracy: 94.18%, Loss: 0.0582\n",
      "Epoch: 83, Accuracy: 94.27%, Loss: 0.0573\n",
      "Epoch: 84, Accuracy: 94.36%, Loss: 0.0564\n",
      "Epoch: 85, Accuracy: 94.45%, Loss: 0.0555\n",
      "Epoch: 86, Accuracy: 94.54%, Loss: 0.0546\n",
      "Epoch: 87, Accuracy: 94.63%, Loss: 0.0537\n",
      "Epoch: 88, Accuracy: 94.72%, Loss: 0.0528\n",
      "Epoch: 89, Accuracy: 94.80%, Loss: 0.0520\n",
      "Epoch: 90, Accuracy: 94.89%, Loss: 0.0511\n",
      "Epoch: 91, Accuracy: 94.97%, Loss: 0.0503\n",
      "Epoch: 92, Accuracy: 95.05%, Loss: 0.0495\n",
      "Epoch: 93, Accuracy: 95.13%, Loss: 0.0487\n",
      "Epoch: 94, Accuracy: 95.21%, Loss: 0.0479\n",
      "Epoch: 95, Accuracy: 95.29%, Loss: 0.0471\n",
      "Epoch: 96, Accuracy: 95.37%, Loss: 0.0463\n",
      "Epoch: 97, Accuracy: 95.45%, Loss: 0.0455\n",
      "Epoch: 98, Accuracy: 95.52%, Loss: 0.0448\n",
      "Epoch: 99, Accuracy: 95.60%, Loss: 0.0440\n",
      "Epoch: 100, Accuracy: 95.67%, Loss: 0.0433\n"
>>>>>>> origin/main
     ]
    }
   ],
   "source": [
<<<<<<< HEAD
=======
    "# Train the network\n",
>>>>>>> origin/main
    "acc, losses, w1, w2 = train(x, y, w1, w2, alpha=0.1, epochs=100)"
   ]
  },
  {
<<<<<<< HEAD
   "cell_type": "markdown",
   "id": "864870d5",
   "metadata": {},
   "source": [
    "### **Plot accuracy**"
   ]
  },
  {
   "cell_type": "code",
   "execution_count": 62,
=======
   "cell_type": "code",
   "execution_count": 86,
>>>>>>> origin/main
   "id": "e474b972-319f-4370-81fe-507610903db6",
   "metadata": {},
   "outputs": [
    {
     "data": {
<<<<<<< HEAD
      "image/png": "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",
=======
      "image/png": "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",
>>>>>>> origin/main
      "text/plain": [
       "<Figure size 640x480 with 1 Axes>"
      ]
     },
     "metadata": {},
     "output_type": "display_data"
    }
   ],
   "source": [
    "import matplotlib.pyplot as plt\n",
<<<<<<< HEAD
=======
    "\n",
    "#plotting accuracy\n",
>>>>>>> origin/main
    "plt.plot(acc)\n",
    "plt.ylabel('Accuracy')\n",
    "plt.xlabel('Epochs:')\n",
    "plt.show()"
   ]
  },
  {
<<<<<<< HEAD
   "cell_type": "markdown",
   "id": "1a1f3325",
   "metadata": {},
   "source": [
    "### **Plot loss**"
   ]
  },
  {
   "cell_type": "code",
   "execution_count": 63,
=======
   "cell_type": "code",
   "execution_count": 87,
>>>>>>> origin/main
   "id": "a5898410-e706-49f4-b204-1530dcab6b46",
   "metadata": {},
   "outputs": [
    {
     "data": {
<<<<<<< HEAD
      "image/png": "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",
=======
      "image/png": "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",
>>>>>>> origin/main
      "text/plain": [
       "<Figure size 640x480 with 1 Axes>"
      ]
     },
     "metadata": {},
     "output_type": "display_data"
    }
   ],
   "source": [
<<<<<<< HEAD
=======
    "#plotting loss\n",
>>>>>>> origin/main
    "plt.plot(losses)\n",
    "plt.ylabel('Loss')\n",
    "plt.xlabel('Epochs:')\n",
    "plt.show()"
   ]
  },
  {
<<<<<<< HEAD
   "cell_type": "markdown",
   "id": "b7100ee9",
   "metadata": {},
   "source": [
    "### **Test the Neural Network**\n",
    "#### **Making Predictions Using Reshaped Arrays**"
   ]
  },
  {
   "cell_type": "code",
   "execution_count": 64,
   "id": "ed22372f",
=======
   "cell_type": "code",
   "execution_count": 88,
   "id": "7502deae-cc78-49d2-9c9b-02f560525bb1",
>>>>>>> origin/main
   "metadata": {},
   "outputs": [
    {
     "name": "stdout",
     "output_type": "stream",
     "text": [
<<<<<<< HEAD
      "Testing the trained neural network:\n",
      "Image is of letter A\n"
     ]
    },
    {
     "data": {
      "image/png": "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",
      "text/plain": [
       "<Figure size 640x480 with 1 Axes>"
      ]
     },
     "metadata": {},
     "output_type": "display_data"
    },
    {
     "name": "stdout",
     "output_type": "stream",
     "text": [
      "Image is of letter B\n"
     ]
    },
    {
     "data": {
      "image/png": "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",
      "text/plain": [
       "<Figure size 640x480 with 1 Axes>"
      ]
     },
     "metadata": {},
     "output_type": "display_data"
    },
    {
     "name": "stdout",
     "output_type": "stream",
     "text": [
=======
>>>>>>> origin/main
      "Image is of letter C\n"
     ]
    },
    {
     "data": {
<<<<<<< HEAD
      "image/png": "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",
=======
      "image/png": "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",
>>>>>>> origin/main
      "text/plain": [
       "<Figure size 640x480 with 1 Axes>"
      ]
     },
     "metadata": {},
     "output_type": "display_data"
    }
   ],
   "source": [
<<<<<<< HEAD
    "print(\"Testing the trained neural network:\")\n",
    "test_samples = [np.array(a).reshape(1,30), np.array(b).reshape(1,30), np.array(c).reshape(1,30)]\n",
    "for sample in test_samples:\n",
    "    predict(sample, w1, w2)"
   ]
  },
  {
   "cell_type": "markdown",
   "id": "55fb461b",
   "metadata": {},
   "source": [
    "#### **Predicting using individual samples from a dataset**"
=======
    "# Predicting on a sample\n",
    "predict(x[2], w1, w2)"
>>>>>>> origin/main
   ]
  },
  {
   "cell_type": "code",
<<<<<<< HEAD
   "execution_count": 65,
   "id": "7502deae-cc78-49d2-9c9b-02f560525bb1",
=======
   "execution_count": 89,
   "id": "58f3454c-77c6-4ba8-8deb-6f3260d04419",
   "metadata": {},
   "outputs": [
    {
     "name": "stdout",
     "output_type": "stream",
     "text": [
      "Image is of letter B\n"
     ]
    },
    {
     "data": {
      "image/png": "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",
      "text/plain": [
       "<Figure size 640x480 with 1 Axes>"
      ]
     },
     "metadata": {},
     "output_type": "display_data"
    }
   ],
   "source": [
    "predict(x[1], w1, w2)"
   ]
  },
  {
   "cell_type": "code",
   "execution_count": 90,
   "id": "68ad88f4-4c64-4253-89ab-55e3d074e657",
>>>>>>> origin/main
   "metadata": {},
   "outputs": [
    {
     "name": "stdout",
     "output_type": "stream",
     "text": [
      "Image is of letter A\n"
     ]
    },
    {
     "data": {
<<<<<<< HEAD
      "image/png": "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",
=======
      "image/png": "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",
>>>>>>> origin/main
      "text/plain": [
       "<Figure size 640x480 with 1 Axes>"
      ]
     },
     "metadata": {},
     "output_type": "display_data"
    }
   ],
   "source": [
<<<<<<< HEAD
    "predict(x[0], w1, w2)\n",
    "# predict(x[1], w1, w2)\n",
    "# predict(x[2], w1, w2)"
=======
    "predict(x[0], w1, w2)"
>>>>>>> origin/main
   ]
  },
  {
   "cell_type": "code",
   "execution_count": null,
<<<<<<< HEAD
   "id": "98b46307",
=======
   "id": "3578404d-eb4d-4079-8349-0b169a96c455",
>>>>>>> origin/main
   "metadata": {},
   "outputs": [],
   "source": []
  },
  {
   "cell_type": "code",
   "execution_count": null,
<<<<<<< HEAD
   "id": "f10e137e",
=======
   "id": "f5703797-9c57-49c3-88e5-6f0e709603da",
   "metadata": {},
   "outputs": [],
   "source": []
  },
  {
   "cell_type": "code",
   "execution_count": null,
   "id": "a890fe4e-d990-4ce3-995e-66279a3c8ee7",
   "metadata": {},
   "outputs": [],
   "source": []
  },
  {
   "cell_type": "code",
   "execution_count": null,
   "id": "e6a0f01a-1353-4bbd-96bc-4a842ebc653a",
>>>>>>> origin/main
   "metadata": {},
   "outputs": [],
   "source": []
  }
 ],
 "metadata": {
  "kernelspec": {
   "display_name": "Python 3 (ipykernel)",
   "language": "python",
   "name": "python3"
  },
  "language_info": {
   "codemirror_mode": {
    "name": "ipython",
    "version": 3
   },
   "file_extension": ".py",
   "mimetype": "text/x-python",
   "name": "python",
   "nbconvert_exporter": "python",
   "pygments_lexer": "ipython3",
<<<<<<< HEAD
   "version": "3.12.3"
=======
   "version": "3.11.7"
>>>>>>> origin/main
  }
 },
 "nbformat": 4,
 "nbformat_minor": 5
}
