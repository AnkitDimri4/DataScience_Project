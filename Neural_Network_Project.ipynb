{
 "cells": [
  {
   "cell_type": "markdown",
   "id": "95202a94",
   "metadata": {},
   "source": [
    "### **Training a Neural Network to Recognize Images of Letters A, B, and C**\n"
   ]
  },
  {
   "cell_type": "code",
   "execution_count": 85,
   "id": "fb3fa832-1246-4579-97f6-eb9c921c9a5f",
   "metadata": {},
   "outputs": [],
   "source": [
    "import numpy as np\n",
    "import matplotlib.pyplot as plt"
   ]
  },
  {
   "cell_type": "markdown",
   "id": "6d488e89",
   "metadata": {},
   "source": [
    "### **Dataset Description**\n",
    "- **The dataset consists of binary images (represented as lists of 0s and 1s) of letters A, B, and C.**"
   ]
  },
  {
   "cell_type": "code",
   "execution_count": 86,
   "id": "6dd9f544-f5ee-4aab-a8b7-66248e1c1658",
   "metadata": {},
   "outputs": [],
   "source": [
    "#A \n",
    "a= [0, 0, 1, 1, 0, 0,\n",
    "    0, 1, 0, 0, 1, 0,\n",
    "    1, 1, 1, 1, 1, 1,\n",
    "    1, 0, 0, 0, 0, 1,\n",
    "    1, 0, 0, 0, 0, 1]\n",
    "\n",
    "#B\n",
    "b= [0, 1, 1, 1, 1, 0,\n",
    "    0, 1, 0, 0, 1, 0,\n",
    "    0, 1, 1, 1, 1, 0,\n",
    "    0, 1, 0, 0, 1, 0,\n",
    "    0, 1, 1, 1, 1, 0]\n",
    "\n",
    "#C\n",
    "c= [0, 1, 1, 1, 1, 0,\n",
    "    0, 1, 0, 0, 0, 0,\n",
    "    0, 1, 0, 0, 0, 0,\n",
    "    0, 1, 0, 0, 0, 0,\n",
    "    0, 1, 1, 1, 1, 0]"
   ]
  },
  {
   "cell_type": "markdown",
   "id": "d52820f9",
   "metadata": {},
   "source": [
    "### **CREATE LABELS**"
   ]
  },
  {
   "cell_type": "code",
   "execution_count": 87,
   "id": "4b621262-1900-41db-bd38-23256f0bd1f6",
   "metadata": {},
   "outputs": [],
   "source": [
    "\n",
    "y = [[1, 0, 0],\n",
    "    [0, 1, 0],\n",
    "    [0, 0, 1]]\n",
    "     "
   ]
  },
  {
   "cell_type": "markdown",
   "id": "415dd91c",
   "metadata": {},
   "source": [
    "### **Visualize data**"
   ]
  },
  {
   "cell_type": "code",
   "execution_count": 88,
   "id": "3ec9fb4f-90d8-456a-9e9f-c6c83690405c",
   "metadata": {},
   "outputs": [
    {
     "data": {
      "text/plain": [
       "<function matplotlib.pyplot.show(close=None, block=None)>"
      ]
     },
     "execution_count": 88,
     "metadata": {},
     "output_type": "execute_result"
    },
    {
     "data": {
      "image/png": "[encoded data removed]",
      "text/plain": [
       "<Figure size 640x480 with 1 Axes>"
      ]
     },
     "metadata": {},
     "output_type": "display_data"
    }
   ],
   "source": [
    "plt.imshow(np.array(a).reshape(5,6))\n",
    "plt.show"
   ]
  },
  {
   "cell_type": "markdown",
   "id": "f460e842",
   "metadata": {},
   "source": [
    "### **Convert data and labels into numpy arrays**"
   ]
  },
  {
   "cell_type": "code",
   "execution_count": 89,
   "id": "9f3fce3e-9074-4535-9000-2be64e776756",
   "metadata": {},
   "outputs": [
    {
     "name": "stdout",
     "output_type": "stream",
     "text": [
      "[[0 0 1 1 0 0 0 1 0 0 1 0 1 1 1 1 1 1 1 0 0 0 0 1 1 0 0 0 0 1]\n",
      " [0 1 1 1 1 0 0 1 0 0 1 0 0 1 1 1 1 0 0 1 0 0 1 0 0 1 1 1 1 0]\n",
      " [0 1 1 1 1 0 0 1 0 0 0 0 0 1 0 0 0 0 0 1 0 0 0 0 0 1 1 1 1 0]] \n",
      "\n",
      " [[1 0 0]\n",
      " [0 1 0]\n",
      " [0 0 1]]\n"
     ]
    }
   ],
   "source": [
    "x= [np.array(a).reshape(1,30), np.array(b).reshape(1,30), np.array(c).reshape(1,30)]\n",
    "x = np.vstack(x)  # Combine into one array\n",
    "y = np.array(y)\n",
    "print(x, '\\n\\n', y)\n"
   ]
  },
  {
   "cell_type": "code",
   "execution_count": 90,
   "id": "09a496b7-0342-4cc3-ada9-40daad1b4510",
   "metadata": {},
   "outputs": [],
   "source": [
    "# input (1,30)\n",
    "#hidden (1, 5)\n",
    "#output(3,3)"
   ]
  },
  {
   "cell_type": "markdown",
   "id": "ccaf18e0",
   "metadata": {},
   "source": [
    "### **Define activation function**"
   ]
  },
  {
   "cell_type": "code",
   "execution_count": 91,
   "id": "5208e39f-dae6-4c5c-97e3-e4b48e5bfede",
   "metadata": {},
   "outputs": [],
   "source": [
    "def sigmoid(x):\n",
    "    return(1/(1+np.exp(-x)))"
   ]
  },
  {
   "cell_type": "markdown",
   "id": "6e3fc0d8",
   "metadata": {},
   "source": [
    "### **Forward propagation**"
   ]
  },
  {
   "cell_type": "code",
   "execution_count": 92,
   "id": "323273d6-aa0a-42c4-91f8-9b0542d92d29",
   "metadata": {},
   "outputs": [],
   "source": [
    "\n",
    "def f_forward(x, w1, w2):\n",
    "    #hidden layer\n",
    "    z1 = x.dot(w1)\n",
    "    a1 = sigmoid(z1)\n",
    "\n",
    "    #output layer\n",
    "    z2 = a1.dot(w2)\n",
    "    a2 = sigmoid(z2)\n",
    "    return(a2)\n"
   ]
  },
  {
   "cell_type": "markdown",
   "id": "24bae02d",
   "metadata": {},
   "source": [
    "### **Initialize weights**"
   ]
  },
  {
   "cell_type": "code",
   "execution_count": 93,
   "id": "c5b27795-58fb-460a-a02f-7afc1fe82b2d",
   "metadata": {},
   "outputs": [],
   "source": [
    "def generate_wt(x, y):\n",
    "    return np.random.randn(x, y)\n"
   ]
  },
  {
   "cell_type": "markdown",
   "id": "e52bd83a",
   "metadata": {},
   "source": [
    "### **Loss function**"
   ]
  },
  {
   "cell_type": "code",
   "execution_count": 94,
   "id": "02bee14f-34d4-471c-aabf-6eb0db3c7385",
   "metadata": {},
   "outputs": [],
   "source": [
    "def loss(out, Y):\n",
    "    s = np.square(out - Y)\n",
    "    s = np.sum(s) / len(Y)\n",
    "    return s"
   ]
  },
  {
   "cell_type": "markdown",
   "id": "ac4e6401",
   "metadata": {},
   "source": [
    "### **Backpropagation**"
   ]
  },
  {
   "cell_type": "code",
   "execution_count": 95,
   "id": "d6f46eac-244d-49f9-8a4e-078bfb239cf3",
   "metadata": {},
   "outputs": [],
   "source": [
    "def back_prop(x, y, w1, w2, alpha):\n",
    "    #hidden\n",
    "    z1 = x.dot(w1)\n",
    "    a1 = sigmoid(z1)\n",
    "    #output layer\n",
    "    z2 = a1.dot(w2)\n",
    "    a2 = sigmoid(z2)\n",
    "\n",
    "    d2 = (a2 - y)\n",
    "    d1 = np.multiply((w2.dot(d2.T)).T, np.multiply(a1, 1 - a1))\n",
    "\n",
    "    #gradient\n",
    "    w1_adj = x.transpose().dot(d1)\n",
    "    w2_adj = a1.transpose().dot(d2)\n",
    "\n",
    "    w1 = w1 - (alpha*(w1_adj))\n",
    "    w2 = w2 - (alpha*(w2_adj))\n",
    "\n",
    "    return (w1, w2)\n"
   ]
  },
  {
   "cell_type": "markdown",
   "id": "ee721e4e",
   "metadata": {},
   "source": [
    "### **Training function**"
   ]
  },
  {
   "cell_type": "code",
   "execution_count": 96,
   "id": "3de23bac-b85c-445d-a601-cc96aa43b918",
   "metadata": {},
   "outputs": [],
   "source": [
    "def train(x, Y, w1, w2, alpha=0.01, epochs=10):\n",
    "    acc = []\n",
    "    losses = []\n",
    "    for j in range(epochs):\n",
    "        l = []\n",
    "        for i in range(len(x)):\n",
    "            out = f_forward(x[i].reshape(1, -1), w1, w2)  # Reshape x[i] to 2D array\n",
    "            l.append(loss(out, Y[i]))\n",
    "            w1, w2 = back_prop(x[i].reshape(1, -1), Y[i], w1, w2, alpha)  # Reshape x[i] to 2D array\n",
    "        avg_loss = sum(l) / len(x)\n",
    "        accuracy = (1 - avg_loss) * 100\n",
    "        print(f\"Epoch: {j + 1}, Accuracy: {accuracy:.2f}%, Loss: {avg_loss:.4f}\")\n",
    "        acc.append(accuracy)\n",
    "        losses.append(avg_loss)\n",
    "    return acc, losses, w1, w2\n"
   ]
  },
  {
   "cell_type": "markdown",
   "id": "c8be727a",
   "metadata": {},
   "source": [
    "### **Prediction function**"
   ]
  },
  {
   "cell_type": "code",
   "execution_count": 97,
   "id": "d7545d52-ce5d-401a-86ea-867adaf8dbf1",
   "metadata": {},
   "outputs": [],
   "source": [
    "def predict(x, w1, w2):\n",
    "    out = f_forward(x, w1, w2)\n",
    "    prediction = np.argmax(out)\n",
    "    if prediction == 0:\n",
    "        print(\"Image is of letter A\")\n",
    "    elif prediction == 1:\n",
    "        print(\"Image is of letter B\")\n",
    "    else:\n",
    "        print(\"Image is of letter C\")\n",
    "    plt.imshow(x.reshape(5, 6))\n",
    "    plt.show()"
   ]
  },
  {
   "cell_type": "markdown",
   "id": "a3ff1114",
   "metadata": {},
   "source": [
    "### **Initialize weights**"
   ]
  },
  {
   "cell_type": "code",
   "execution_count": 98,
   "id": "10bcefb0-8e25-4e68-8fad-903cbfa133af",
   "metadata": {},
   "outputs": [],
   "source": [
    "w1 = generate_wt(30, 5)\n",
    "w2 = generate_wt(5, 3)"
   ]
  },
  {
   "cell_type": "markdown",
   "id": "bae6a6e7",
   "metadata": {},
   "source": [
    "### **Train the network**"
   ]
  },
  {
   "cell_type": "code",
   "execution_count": 99,
   "id": "7f41253a-fc19-434e-913e-2f5be42381a9",
   "metadata": {},
   "outputs": [
    {
     "name": "stdout",
     "output_type": "stream",
     "text": [
      "Epoch: 1, Accuracy: 59.97%, Loss: 0.4003\n",
      "Epoch: 2, Accuracy: 62.30%, Loss: 0.3770\n",
      "Epoch: 3, Accuracy: 64.51%, Loss: 0.3549\n",
      "Epoch: 4, Accuracy: 66.49%, Loss: 0.3351\n",
      "Epoch: 5, Accuracy: 68.09%, Loss: 0.3191\n",
      "Epoch: 6, Accuracy: 69.43%, Loss: 0.3057\n",
      "Epoch: 7, Accuracy: 70.68%, Loss: 0.2932\n",
      "Epoch: 8, Accuracy: 71.90%, Loss: 0.2810\n",
      "Epoch: 9, Accuracy: 73.11%, Loss: 0.2689\n",
      "Epoch: 10, Accuracy: 74.30%, Loss: 0.2570\n",
      "Epoch: 11, Accuracy: 75.45%, Loss: 0.2455\n",
      "Epoch: 12, Accuracy: 76.53%, Loss: 0.2347\n",
      "Epoch: 13, Accuracy: 77.54%, Loss: 0.2246\n",
      "Epoch: 14, Accuracy: 78.47%, Loss: 0.2153\n",
      "Epoch: 15, Accuracy: 79.30%, Loss: 0.2070\n",
      "Epoch: 16, Accuracy: 80.05%, Loss: 0.1995\n",
      "Epoch: 17, Accuracy: 80.71%, Loss: 0.1929\n",
      "Epoch: 18, Accuracy: 81.31%, Loss: 0.1869\n",
      "Epoch: 19, Accuracy: 81.84%, Loss: 0.1816\n",
      "Epoch: 20, Accuracy: 82.33%, Loss: 0.1767\n",
      "Epoch: 21, Accuracy: 82.77%, Loss: 0.1723\n",
      "Epoch: 22, Accuracy: 83.18%, Loss: 0.1682\n",
      "Epoch: 23, Accuracy: 83.57%, Loss: 0.1643\n",
      "Epoch: 24, Accuracy: 83.93%, Loss: 0.1607\n",
      "Epoch: 25, Accuracy: 84.28%, Loss: 0.1572\n",
      "Epoch: 26, Accuracy: 84.62%, Loss: 0.1538\n",
      "Epoch: 27, Accuracy: 84.95%, Loss: 0.1505\n",
      "Epoch: 28, Accuracy: 85.27%, Loss: 0.1473\n",
      "Epoch: 29, Accuracy: 85.60%, Loss: 0.1440\n",
      "Epoch: 30, Accuracy: 85.92%, Loss: 0.1408\n",
      "Epoch: 31, Accuracy: 86.24%, Loss: 0.1376\n",
      "Epoch: 32, Accuracy: 86.57%, Loss: 0.1343\n",
      "Epoch: 33, Accuracy: 86.90%, Loss: 0.1310\n",
      "Epoch: 34, Accuracy: 87.24%, Loss: 0.1276\n",
      "Epoch: 35, Accuracy: 87.58%, Loss: 0.1242\n",
      "Epoch: 36, Accuracy: 87.93%, Loss: 0.1207\n",
      "Epoch: 37, Accuracy: 88.29%, Loss: 0.1171\n",
      "Epoch: 38, Accuracy: 88.66%, Loss: 0.1134\n",
      "Epoch: 39, Accuracy: 89.03%, Loss: 0.1097\n",
      "Epoch: 40, Accuracy: 89.42%, Loss: 0.1058\n",
      "Epoch: 41, Accuracy: 89.80%, Loss: 0.1020\n",
      "Epoch: 42, Accuracy: 90.19%, Loss: 0.0981\n",
      "Epoch: 43, Accuracy: 90.58%, Loss: 0.0942\n",
      "Epoch: 44, Accuracy: 90.96%, Loss: 0.0904\n",
      "Epoch: 45, Accuracy: 91.34%, Loss: 0.0866\n",
      "Epoch: 46, Accuracy: 91.71%, Loss: 0.0829\n",
      "Epoch: 47, Accuracy: 92.06%, Loss: 0.0794\n",
      "Epoch: 48, Accuracy: 92.41%, Loss: 0.0759\n",
      "Epoch: 49, Accuracy: 92.74%, Loss: 0.0726\n",
      "Epoch: 50, Accuracy: 93.05%, Loss: 0.0695\n",
      "Epoch: 51, Accuracy: 93.35%, Loss: 0.0665\n",
      "Epoch: 52, Accuracy: 93.64%, Loss: 0.0636\n",
      "Epoch: 53, Accuracy: 93.91%, Loss: 0.0609\n",
      "Epoch: 54, Accuracy: 94.17%, Loss: 0.0583\n",
      "Epoch: 55, Accuracy: 94.41%, Loss: 0.0559\n",
      "Epoch: 56, Accuracy: 94.65%, Loss: 0.0535\n",
      "Epoch: 57, Accuracy: 94.87%, Loss: 0.0513\n",
      "Epoch: 58, Accuracy: 95.07%, Loss: 0.0493\n",
      "Epoch: 59, Accuracy: 95.27%, Loss: 0.0473\n",
      "Epoch: 60, Accuracy: 95.46%, Loss: 0.0454\n",
      "Epoch: 61, Accuracy: 95.63%, Loss: 0.0437\n",
      "Epoch: 62, Accuracy: 95.80%, Loss: 0.0420\n",
      "Epoch: 63, Accuracy: 95.96%, Loss: 0.0404\n",
      "Epoch: 64, Accuracy: 96.11%, Loss: 0.0389\n",
      "Epoch: 65, Accuracy: 96.25%, Loss: 0.0375\n",
      "Epoch: 66, Accuracy: 96.39%, Loss: 0.0361\n",
      "Epoch: 67, Accuracy: 96.51%, Loss: 0.0349\n",
      "Epoch: 68, Accuracy: 96.64%, Loss: 0.0336\n",
      "Epoch: 69, Accuracy: 96.75%, Loss: 0.0325\n",
      "Epoch: 70, Accuracy: 96.86%, Loss: 0.0314\n",
      "Epoch: 71, Accuracy: 96.97%, Loss: 0.0303\n",
      "Epoch: 72, Accuracy: 97.07%, Loss: 0.0293\n",
      "Epoch: 73, Accuracy: 97.17%, Loss: 0.0283\n",
      "Epoch: 74, Accuracy: 97.26%, Loss: 0.0274\n",
      "Epoch: 75, Accuracy: 97.35%, Loss: 0.0265\n",
      "Epoch: 76, Accuracy: 97.43%, Loss: 0.0257\n",
      "Epoch: 77, Accuracy: 97.51%, Loss: 0.0249\n",
      "Epoch: 78, Accuracy: 97.59%, Loss: 0.0241\n",
      "Epoch: 79, Accuracy: 97.66%, Loss: 0.0234\n",
      "Epoch: 80, Accuracy: 97.73%, Loss: 0.0227\n",
      "Epoch: 81, Accuracy: 97.80%, Loss: 0.0220\n",
      "Epoch: 82, Accuracy: 97.87%, Loss: 0.0213\n",
      "Epoch: 83, Accuracy: 97.93%, Loss: 0.0207\n",
      "Epoch: 84, Accuracy: 97.99%, Loss: 0.0201\n",
      "Epoch: 85, Accuracy: 98.04%, Loss: 0.0196\n",
      "Epoch: 86, Accuracy: 98.10%, Loss: 0.0190\n",
      "Epoch: 87, Accuracy: 98.15%, Loss: 0.0185\n",
      "Epoch: 88, Accuracy: 98.20%, Loss: 0.0180\n",
      "Epoch: 89, Accuracy: 98.25%, Loss: 0.0175\n",
      "Epoch: 90, Accuracy: 98.30%, Loss: 0.0170\n",
      "Epoch: 91, Accuracy: 98.35%, Loss: 0.0165\n",
      "Epoch: 92, Accuracy: 98.39%, Loss: 0.0161\n",
      "Epoch: 93, Accuracy: 98.43%, Loss: 0.0157\n",
      "Epoch: 94, Accuracy: 98.47%, Loss: 0.0153\n",
      "Epoch: 95, Accuracy: 98.51%, Loss: 0.0149\n",
      "Epoch: 96, Accuracy: 98.55%, Loss: 0.0145\n",
      "Epoch: 97, Accuracy: 98.59%, Loss: 0.0141\n",
      "Epoch: 98, Accuracy: 98.62%, Loss: 0.0138\n",
      "Epoch: 99, Accuracy: 98.65%, Loss: 0.0135\n",
      "Epoch: 100, Accuracy: 98.69%, Loss: 0.0131\n"
     ]
    }
   ],
   "source": [
    "acc, losses, w1, w2 = train(x, y, w1, w2, alpha=0.1, epochs=100)"
   ]
  },
  {
   "cell_type": "markdown",
   "id": "864870d5",
   "metadata": {},
   "source": [
    "### **Plot accuracy**"
   ]
  },
  {
   "cell_type": "code",
   "execution_count": 100,
   "id": "e474b972-319f-4370-81fe-507610903db6",
   "metadata": {},
   "outputs": [
    {
     "data": {
      "image/png": "[encoded data removed]",
      "text/plain": [
       "<Figure size 640x480 with 1 Axes>"
      ]
     },
     "metadata": {},
     "output_type": "display_data"
    }
   ],
   "source": [
    "import matplotlib.pyplot as plt\n",
    "plt.plot(acc)\n",
    "plt.ylabel('Accuracy')\n",
    "plt.xlabel('Epochs:')\n",
    "plt.show()"
   ]
  },
  {
   "cell_type": "markdown",
   "id": "1a1f3325",
   "metadata": {},
   "source": [
    "### **Plot loss**"
   ]
  },
  {
   "cell_type": "code",
   "execution_count": 101,
   "id": "a5898410-e706-49f4-b204-1530dcab6b46",
   "metadata": {},
   "outputs": [
    {
     "data": {
      "image/png": "[encoded data removed]",
      "text/plain": [
       "<Figure size 640x480 with 1 Axes>"
      ]
     },
     "metadata": {},
     "output_type": "display_data"
    }
   ],
   "source": [
    "plt.plot(losses)\n",
    "plt.ylabel('Loss')\n",
    "plt.xlabel('Epochs:')\n",
    "plt.show()"
   ]
  },
  {
   "cell_type": "markdown",
   "id": "b7100ee9",
   "metadata": {},
   "source": [
    "### **Test the Neural Network**\n",
    "#### **Making Predictions Using Reshaped Arrays**"
   ]
  },
  {
   "cell_type": "code",
   "execution_count": 102,
   "id": "ed22372f",
   "metadata": {},
   "outputs": [
    {
     "name": "stdout",
     "output_type": "stream",
     "text": [
      "Testing the trained neural network:\n",
      "Image is of letter A\n"
     ]
    },
    {
     "data": {
      "image/png": "[encoded data removed]",
      "text/plain": [
       "<Figure size 640x480 with 1 Axes>"
      ]
     },
     "metadata": {},
     "output_type": "display_data"
    },
    {
     "name": "stdout",
     "output_type": "stream",
     "text": [
      "Image is of letter B\n"
     ]
    },
    {
     "data": {
      "image/png": "[encoded data removed]",
      "text/plain": [
       "<Figure size 640x480 with 1 Axes>"
      ]
     },
     "metadata": {},
     "output_type": "display_data"
    },
    {
     "name": "stdout",
     "output_type": "stream",
     "text": [
      "Image is of letter C\n"
     ]
    },
    {
     "data": {
      "image/png": "[encoded data removed]",
      "text/plain": [
       "<Figure size 640x480 with 1 Axes>"
      ]
     },
     "metadata": {},
     "output_type": "display_data"
    }
   ],
   "source": [
    "print(\"Testing the trained neural network:\")\n",
    "test_samples = [np.array(a).reshape(1,30), np.array(b).reshape(1,30), np.array(c).reshape(1,30)]\n",
    "for sample in test_samples:\n",
    "    predict(sample, w1, w2)"
   ]
  },
  {
   "cell_type": "markdown",
   "id": "55fb461b",
   "metadata": {},
   "source": [
    "#### **Predicting using individual samples from a dataset**"
   ]
  },
  {
   "cell_type": "code",
   "execution_count": 103,
   "id": "7502deae-cc78-49d2-9c9b-02f560525bb1",
   "metadata": {},
   "outputs": [
    {
     "name": "stdout",
     "output_type": "stream",
     "text": [
      "Image is of letter A\n"
     ]
    },
    {
     "data": {
      "image/png": "[encoded data removed]",
      "text/plain": [
       "<Figure size 640x480 with 1 Axes>"
      ]
     },
     "metadata": {},
     "output_type": "display_data"
    }
   ],
   "source": [
    "predict(x[0], w1, w2)\n",
    "# predict(x[1], w1, w2)\n",
    "# predict(x[2], w1, w2)"
   ]
  },
  {
   "cell_type": "code",
   "execution_count": null,
   "id": "98b46307",
   "metadata": {},
   "outputs": [],
   "source": []
  },
  {
   "cell_type": "code",
   "execution_count": null,
   "id": "f10e137e",
   "metadata": {},
   "outputs": [],
   "source": []
  }
 ],
 "metadata": {
  "kernelspec": {
   "display_name": "Python 3 (ipykernel)",
   "language": "python",
   "name": "python3"
  },
  "language_info": {
   "codemirror_mode": {
    "name": "ipython",
    "version": 3
   },
   "file_extension": ".py",
   "mimetype": "text/x-python",
   "name": "python",
   "nbconvert_exporter": "python",
   "pygments_lexer": "ipython3",
   "version": "3.12.3"
  }
 },
 "nbformat": 4,
 "nbformat_minor": 5
}
