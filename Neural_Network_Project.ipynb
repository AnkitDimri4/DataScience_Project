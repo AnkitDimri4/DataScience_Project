{
 "cells": [
  {
   "cell_type": "code",
   "execution_count": 70,
   "id": "fb3fa832-1246-4579-97f6-eb9c921c9a5f",
   "metadata": {},
   "outputs": [],
   "source": [
    "#Train a neural network to recognize images of letters A, B and C"
   ]
  },
  {
   "cell_type": "code",
   "execution_count": 71,
   "id": "6dd9f544-f5ee-4aab-a8b7-66248e1c1658",
   "metadata": {},
   "outputs": [],
   "source": [
    "#dataset \n",
    "\n",
    "#A \n",
    "a= [0, 0, 1, 1, 0, 0,\n",
    "    0, 1, 0, 0, 1, 0,\n",
    "    1, 1, 1, 1, 1, 1,\n",
    "    1, 0, 0, 0, 0, 1,\n",
    "    1, 0, 0, 0, 0, 1]\n",
    "\n",
    "#B\n",
    "b= [0, 1, 1, 1, 1, 0,\n",
    "    0, 1, 0, 0, 1, 0,\n",
    "    0, 1, 1, 1, 1, 0,\n",
    "    0, 1, 0, 0, 1, 0,\n",
    "    0, 1, 1, 1, 1, 0]\n",
    "\n",
    "#C\n",
    "c= [0, 1, 1, 1, 1, 0,\n",
    "    0, 1, 0, 0, 0, 0,\n",
    "    0, 1, 0, 0, 0, 0,\n",
    "    0, 1, 0, 0, 0, 0,\n",
    "    0, 1, 1, 1, 1, 0]"
   ]
  },
  {
   "cell_type": "code",
   "execution_count": 72,
   "id": "4b621262-1900-41db-bd38-23256f0bd1f6",
   "metadata": {},
   "outputs": [],
   "source": [
    "# CREATE LABELS\n",
    "y = [[1, 0, 0],\n",
    "    [0, 1, 0],\n",
    "    [0, 0, 1]]\n",
    "     "
   ]
  },
  {
   "cell_type": "code",
   "execution_count": 73,
   "id": "2d023bb1-ec70-47b2-9137-815d580fd323",
   "metadata": {},
   "outputs": [],
   "source": [
    "import numpy as np\n",
    "import matplotlib.pyplot as plt"
   ]
  },
  {
   "cell_type": "code",
   "execution_count": 74,
   "id": "3ec9fb4f-90d8-456a-9e9f-c6c83690405c",
   "metadata": {},
   "outputs": [
    {
     "data": {
      "text/plain": [
       "<function matplotlib.pyplot.show(close=None, block=None)>"
      ]
     },
     "execution_count": 74,
     "metadata": {},
     "output_type": "execute_result"
    },
    {
     "data": {
      "image/png": "[encoded data removed]",
      "text/plain": [
       "<Figure size 640x480 with 1 Axes>"
      ]
     },
     "metadata": {},
     "output_type": "display_data"
    }
   ],
   "source": [
    "# visualize thz data\n",
    "plt.imshow(np.array(a).reshape(5,6))\n",
    "plt.show"
   ]
  },
  {
   "cell_type": "code",
   "execution_count": 75,
   "id": "9f3fce3e-9074-4535-9000-2be64e776756",
   "metadata": {},
   "outputs": [
    {
     "name": "stdout",
     "output_type": "stream",
     "text": [
      "[[0 0 1 1 0 0 0 1 0 0 1 0 1 1 1 1 1 1 1 0 0 0 0 1 1 0 0 0 0 1]\n",
      " [0 1 1 1 1 0 0 1 0 0 1 0 0 1 1 1 1 0 0 1 0 0 1 0 0 1 1 1 1 0]\n",
      " [0 1 1 1 1 0 0 1 0 0 0 0 0 1 0 0 0 0 0 1 0 0 0 0 0 1 1 1 1 0]] \n",
      "\n",
      " [[1 0 0]\n",
      " [0 1 0]\n",
      " [0 0 1]]\n"
     ]
    }
   ],
   "source": [
    "# convert data and labels into numpy arrays\n",
    "x= [np.array(a).reshape(1,30), np.array(b).reshape(1,30), np.array(c).reshape(1,30)]\n",
    "x = np.vstack(x)  # Combine into one array\n",
    "y = np.array(y)\n",
    "print(x, '\\n\\n', y)\n"
   ]
  },
  {
   "cell_type": "code",
   "execution_count": 76,
   "id": "09a496b7-0342-4cc3-ada9-40daad1b4510",
   "metadata": {},
   "outputs": [],
   "source": [
    "# input (1,30)\n",
    "#hidden (1, 5)\n",
    "#output(3,3)"
   ]
  },
  {
   "cell_type": "code",
   "execution_count": 77,
   "id": "5208e39f-dae6-4c5c-97e3-e4b48e5bfede",
   "metadata": {},
   "outputs": [],
   "source": [
    "#activation function\n",
    "def sigmoid(x):\n",
    "    return(1/(1+np.exp(-x)))"
   ]
  },
  {
   "cell_type": "code",
   "execution_count": 78,
   "id": "323273d6-aa0a-42c4-91f8-9b0542d92d29",
   "metadata": {},
   "outputs": [],
   "source": [
    "#creation of forword neural network\n",
    "def f_forward(x, w1, w2):\n",
    "    #hidden layer\n",
    "    z1 = x.dot(w1)\n",
    "    a1 = sigmoid(z1)\n",
    "\n",
    "    #output layer\n",
    "    z2 = a1.dot(w2)\n",
    "    a2 = sigmoid(z2)\n",
    "    return(a2)\n"
   ]
  },
  {
   "cell_type": "code",
   "execution_count": 79,
   "id": "c5b27795-58fb-460a-a02f-7afc1fe82b2d",
   "metadata": {},
   "outputs": [],
   "source": [
    "# Initialize the weights\n",
    "def generate_wt(x, y):\n",
    "    return np.random.randn(x, y)\n"
   ]
  },
  {
   "cell_type": "code",
   "execution_count": 80,
   "id": "02bee14f-34d4-471c-aabf-6eb0db3c7385",
   "metadata": {},
   "outputs": [],
   "source": [
    "# Loss function\n",
    "def loss(out, Y):\n",
    "    s = np.square(out - Y)\n",
    "    s = np.sum(s) / len(Y)\n",
    "    return s"
   ]
  },
  {
   "cell_type": "code",
   "execution_count": 81,
   "id": "d6f46eac-244d-49f9-8a4e-078bfb239cf3",
   "metadata": {},
   "outputs": [],
   "source": [
    "#back propagation\n",
    "def back_prop(x, y, w1, w2, alpha):\n",
    "    #hidden\n",
    "    z1 = x.dot(w1)\n",
    "    a1 = sigmoid(z1)\n",
    "    #output layer\n",
    "    z2 = a1.dot(w2)\n",
    "    a2 = sigmoid(z2)\n",
    "\n",
    "    d2 = (a2 - y)\n",
    "    d1 = np.multiply((w2.dot(d2.T)).T, np.multiply(a1, 1 - a1))\n",
    "\n",
    "    #gradient\n",
    "    w1_adj = x.transpose().dot(d1)\n",
    "    w2_adj = a1.transpose().dot(d2)\n",
    "\n",
    "    w1 = w1 - (alpha*(w1_adj))\n",
    "    w2 = w2 - (alpha*(w2_adj))\n",
    "\n",
    "    return (w1, w2)\n"
   ]
  },
  {
   "cell_type": "code",
   "execution_count": 82,
   "id": "3de23bac-b85c-445d-a601-cc96aa43b918",
   "metadata": {},
   "outputs": [],
   "source": [
    "# Training function\n",
    "def train(x, Y, w1, w2, alpha=0.01, epochs=10):\n",
    "    acc = []\n",
    "    losses = []\n",
    "    for j in range(epochs):\n",
    "        l = []\n",
    "        for i in range(len(x)):\n",
    "            out = f_forward(x[i].reshape(1, -1), w1, w2)  # Reshape x[i] to 2D array\n",
    "            l.append(loss(out, Y[i]))\n",
    "            w1, w2 = back_prop(x[i].reshape(1, -1), Y[i], w1, w2, alpha)  # Reshape x[i] to 2D array\n",
    "        avg_loss = sum(l) / len(x)\n",
    "        accuracy = (1 - avg_loss) * 100\n",
    "        print(f\"Epoch: {j + 1}, Accuracy: {accuracy:.2f}%, Loss: {avg_loss:.4f}\")\n",
    "        acc.append(accuracy)\n",
    "        losses.append(avg_loss)\n",
    "    return acc, losses, w1, w2\n"
   ]
  },
  {
   "cell_type": "code",
   "execution_count": 83,
   "id": "d7545d52-ce5d-401a-86ea-867adaf8dbf1",
   "metadata": {},
   "outputs": [],
   "source": [
    "# Prediction function\n",
    "def predict(x, w1, w2):\n",
    "    out = f_forward(x, w1, w2)\n",
    "    prediction = np.argmax(out)\n",
    "    if prediction == 0:\n",
    "        print(\"Image is of letter A\")\n",
    "    elif prediction == 1:\n",
    "        print(\"Image is of letter B\")\n",
    "    else:\n",
    "        print(\"Image is of letter C\")\n",
    "    plt.imshow(x.reshape(5, 6))\n",
    "    plt.show()"
   ]
  },
  {
   "cell_type": "code",
   "execution_count": 84,
   "id": "10bcefb0-8e25-4e68-8fad-903cbfa133af",
   "metadata": {},
   "outputs": [],
   "source": [
    "# Initialize weights\n",
    "w1 = generate_wt(30, 5)\n",
    "w2 = generate_wt(5, 3)"
   ]
  },
  {
   "cell_type": "code",
   "execution_count": 85,
   "id": "7f41253a-fc19-434e-913e-2f5be42381a9",
   "metadata": {},
   "outputs": [
    {
     "name": "stdout",
     "output_type": "stream",
     "text": [
      "Epoch: 1, Accuracy: 66.84%, Loss: 0.3316\n",
      "Epoch: 2, Accuracy: 68.76%, Loss: 0.3124\n",
      "Epoch: 3, Accuracy: 70.46%, Loss: 0.2954\n",
      "Epoch: 4, Accuracy: 72.06%, Loss: 0.2794\n",
      "Epoch: 5, Accuracy: 73.55%, Loss: 0.2645\n",
      "Epoch: 6, Accuracy: 74.85%, Loss: 0.2515\n",
      "Epoch: 7, Accuracy: 75.95%, Loss: 0.2405\n",
      "Epoch: 8, Accuracy: 76.90%, Loss: 0.2310\n",
      "Epoch: 9, Accuracy: 77.73%, Loss: 0.2227\n",
      "Epoch: 10, Accuracy: 78.48%, Loss: 0.2152\n",
      "Epoch: 11, Accuracy: 79.17%, Loss: 0.2083\n",
      "Epoch: 12, Accuracy: 79.82%, Loss: 0.2018\n",
      "Epoch: 13, Accuracy: 80.43%, Loss: 0.1957\n",
      "Epoch: 14, Accuracy: 81.01%, Loss: 0.1899\n",
      "Epoch: 15, Accuracy: 81.57%, Loss: 0.1843\n",
      "Epoch: 16, Accuracy: 82.10%, Loss: 0.1790\n",
      "Epoch: 17, Accuracy: 82.61%, Loss: 0.1739\n",
      "Epoch: 18, Accuracy: 83.09%, Loss: 0.1691\n",
      "Epoch: 19, Accuracy: 83.55%, Loss: 0.1645\n",
      "Epoch: 20, Accuracy: 83.98%, Loss: 0.1602\n",
      "Epoch: 21, Accuracy: 84.39%, Loss: 0.1561\n",
      "Epoch: 22, Accuracy: 84.78%, Loss: 0.1522\n",
      "Epoch: 23, Accuracy: 85.14%, Loss: 0.1486\n",
      "Epoch: 24, Accuracy: 85.48%, Loss: 0.1452\n",
      "Epoch: 25, Accuracy: 85.81%, Loss: 0.1419\n",
      "Epoch: 26, Accuracy: 86.12%, Loss: 0.1388\n",
      "Epoch: 27, Accuracy: 86.40%, Loss: 0.1360\n",
      "Epoch: 28, Accuracy: 86.68%, Loss: 0.1332\n",
      "Epoch: 29, Accuracy: 86.94%, Loss: 0.1306\n",
      "Epoch: 30, Accuracy: 87.18%, Loss: 0.1282\n",
      "Epoch: 31, Accuracy: 87.42%, Loss: 0.1258\n",
      "Epoch: 32, Accuracy: 87.64%, Loss: 0.1236\n",
      "Epoch: 33, Accuracy: 87.86%, Loss: 0.1214\n",
      "Epoch: 34, Accuracy: 88.06%, Loss: 0.1194\n",
      "Epoch: 35, Accuracy: 88.26%, Loss: 0.1174\n",
      "Epoch: 36, Accuracy: 88.45%, Loss: 0.1155\n",
      "Epoch: 37, Accuracy: 88.63%, Loss: 0.1137\n",
      "Epoch: 38, Accuracy: 88.81%, Loss: 0.1119\n",
      "Epoch: 39, Accuracy: 88.98%, Loss: 0.1102\n",
      "Epoch: 40, Accuracy: 89.15%, Loss: 0.1085\n",
      "Epoch: 41, Accuracy: 89.31%, Loss: 0.1069\n",
      "Epoch: 42, Accuracy: 89.47%, Loss: 0.1053\n",
      "Epoch: 43, Accuracy: 89.63%, Loss: 0.1037\n",
      "Epoch: 44, Accuracy: 89.78%, Loss: 0.1022\n",
      "Epoch: 45, Accuracy: 89.93%, Loss: 0.1007\n",
      "Epoch: 46, Accuracy: 90.07%, Loss: 0.0993\n",
      "Epoch: 47, Accuracy: 90.21%, Loss: 0.0979\n",
      "Epoch: 48, Accuracy: 90.35%, Loss: 0.0965\n",
      "Epoch: 49, Accuracy: 90.49%, Loss: 0.0951\n",
      "Epoch: 50, Accuracy: 90.63%, Loss: 0.0937\n",
      "Epoch: 51, Accuracy: 90.76%, Loss: 0.0924\n",
      "Epoch: 52, Accuracy: 90.89%, Loss: 0.0911\n",
      "Epoch: 53, Accuracy: 91.02%, Loss: 0.0898\n",
      "Epoch: 54, Accuracy: 91.15%, Loss: 0.0885\n",
      "Epoch: 55, Accuracy: 91.27%, Loss: 0.0873\n",
      "Epoch: 56, Accuracy: 91.40%, Loss: 0.0860\n",
      "Epoch: 57, Accuracy: 91.52%, Loss: 0.0848\n",
      "Epoch: 58, Accuracy: 91.64%, Loss: 0.0836\n",
      "Epoch: 59, Accuracy: 91.76%, Loss: 0.0824\n",
      "Epoch: 60, Accuracy: 91.88%, Loss: 0.0812\n",
      "Epoch: 61, Accuracy: 92.00%, Loss: 0.0800\n",
      "Epoch: 62, Accuracy: 92.11%, Loss: 0.0789\n",
      "Epoch: 63, Accuracy: 92.23%, Loss: 0.0777\n",
      "Epoch: 64, Accuracy: 92.34%, Loss: 0.0766\n",
      "Epoch: 65, Accuracy: 92.45%, Loss: 0.0755\n",
      "Epoch: 66, Accuracy: 92.56%, Loss: 0.0744\n",
      "Epoch: 67, Accuracy: 92.67%, Loss: 0.0733\n",
      "Epoch: 68, Accuracy: 92.78%, Loss: 0.0722\n",
      "Epoch: 69, Accuracy: 92.89%, Loss: 0.0711\n",
      "Epoch: 70, Accuracy: 92.99%, Loss: 0.0701\n",
      "Epoch: 71, Accuracy: 93.10%, Loss: 0.0690\n",
      "Epoch: 72, Accuracy: 93.20%, Loss: 0.0680\n",
      "Epoch: 73, Accuracy: 93.31%, Loss: 0.0669\n",
      "Epoch: 74, Accuracy: 93.41%, Loss: 0.0659\n",
      "Epoch: 75, Accuracy: 93.51%, Loss: 0.0649\n",
      "Epoch: 76, Accuracy: 93.61%, Loss: 0.0639\n",
      "Epoch: 77, Accuracy: 93.71%, Loss: 0.0629\n",
      "Epoch: 78, Accuracy: 93.80%, Loss: 0.0620\n",
      "Epoch: 79, Accuracy: 93.90%, Loss: 0.0610\n",
      "Epoch: 80, Accuracy: 93.99%, Loss: 0.0601\n",
      "Epoch: 81, Accuracy: 94.09%, Loss: 0.0591\n",
      "Epoch: 82, Accuracy: 94.18%, Loss: 0.0582\n",
      "Epoch: 83, Accuracy: 94.27%, Loss: 0.0573\n",
      "Epoch: 84, Accuracy: 94.36%, Loss: 0.0564\n",
      "Epoch: 85, Accuracy: 94.45%, Loss: 0.0555\n",
      "Epoch: 86, Accuracy: 94.54%, Loss: 0.0546\n",
      "Epoch: 87, Accuracy: 94.63%, Loss: 0.0537\n",
      "Epoch: 88, Accuracy: 94.72%, Loss: 0.0528\n",
      "Epoch: 89, Accuracy: 94.80%, Loss: 0.0520\n",
      "Epoch: 90, Accuracy: 94.89%, Loss: 0.0511\n",
      "Epoch: 91, Accuracy: 94.97%, Loss: 0.0503\n",
      "Epoch: 92, Accuracy: 95.05%, Loss: 0.0495\n",
      "Epoch: 93, Accuracy: 95.13%, Loss: 0.0487\n",
      "Epoch: 94, Accuracy: 95.21%, Loss: 0.0479\n",
      "Epoch: 95, Accuracy: 95.29%, Loss: 0.0471\n",
      "Epoch: 96, Accuracy: 95.37%, Loss: 0.0463\n",
      "Epoch: 97, Accuracy: 95.45%, Loss: 0.0455\n",
      "Epoch: 98, Accuracy: 95.52%, Loss: 0.0448\n",
      "Epoch: 99, Accuracy: 95.60%, Loss: 0.0440\n",
      "Epoch: 100, Accuracy: 95.67%, Loss: 0.0433\n"
     ]
    }
   ],
   "source": [
    "# Train the network\n",
    "acc, losses, w1, w2 = train(x, y, w1, w2, alpha=0.1, epochs=100)"
   ]
  },
  {
   "cell_type": "code",
   "execution_count": 86,
   "id": "e474b972-319f-4370-81fe-507610903db6",
   "metadata": {},
   "outputs": [
    {
     "data": {
      "image/png": "[encoded data removed]",
      "text/plain": [
       "<Figure size 640x480 with 1 Axes>"
      ]
     },
     "metadata": {},
     "output_type": "display_data"
    }
   ],
   "source": [
    "import matplotlib.pyplot as plt\n",
    "\n",
    "#plotting accuracy\n",
    "plt.plot(acc)\n",
    "plt.ylabel('Accuracy')\n",
    "plt.xlabel('Epochs:')\n",
    "plt.show()"
   ]
  },
  {
   "cell_type": "code",
   "execution_count": 87,
   "id": "a5898410-e706-49f4-b204-1530dcab6b46",
   "metadata": {},
   "outputs": [
    {
     "data": {
      "image/png": "[encoded data removed]",
      "text/plain": [
       "<Figure size 640x480 with 1 Axes>"
      ]
     },
     "metadata": {},
     "output_type": "display_data"
    }
   ],
   "source": [
    "#plotting loss\n",
    "plt.plot(losses)\n",
    "plt.ylabel('Loss')\n",
    "plt.xlabel('Epochs:')\n",
    "plt.show()"
   ]
  },
  {
   "cell_type": "code",
   "execution_count": 88,
   "id": "7502deae-cc78-49d2-9c9b-02f560525bb1",
   "metadata": {},
   "outputs": [
    {
     "name": "stdout",
     "output_type": "stream",
     "text": [
      "Image is of letter C\n"
     ]
    },
    {
     "data": {
      "image/png": "[encoded data removed]",
      "text/plain": [
       "<Figure size 640x480 with 1 Axes>"
      ]
     },
     "metadata": {},
     "output_type": "display_data"
    }
   ],
   "source": [
    "# Predicting on a sample\n",
    "predict(x[2], w1, w2)"
   ]
  },
  {
   "cell_type": "code",
   "execution_count": 89,
   "id": "58f3454c-77c6-4ba8-8deb-6f3260d04419",
   "metadata": {},
   "outputs": [
    {
     "name": "stdout",
     "output_type": "stream",
     "text": [
      "Image is of letter B\n"
     ]
    },
    {
     "data": {
      "image/png": "[encoded data removed]",
      "text/plain": [
       "<Figure size 640x480 with 1 Axes>"
      ]
     },
     "metadata": {},
     "output_type": "display_data"
    }
   ],
   "source": [
    "predict(x[1], w1, w2)"
   ]
  },
  {
   "cell_type": "code",
   "execution_count": 90,
   "id": "68ad88f4-4c64-4253-89ab-55e3d074e657",
   "metadata": {},
   "outputs": [
    {
     "name": "stdout",
     "output_type": "stream",
     "text": [
      "Image is of letter A\n"
     ]
    },
    {
     "data": {
      "image/png": "[encoded data removed]",
      "text/plain": [
       "<Figure size 640x480 with 1 Axes>"
      ]
     },
     "metadata": {},
     "output_type": "display_data"
    }
   ],
   "source": [
    "predict(x[0], w1, w2)"
   ]
  },
  {
   "cell_type": "code",
   "execution_count": null,
   "id": "3578404d-eb4d-4079-8349-0b169a96c455",
   "metadata": {},
   "outputs": [],
   "source": []
  },
  {
   "cell_type": "code",
   "execution_count": null,
   "id": "f5703797-9c57-49c3-88e5-6f0e709603da",
   "metadata": {},
   "outputs": [],
   "source": []
  },
  {
   "cell_type": "code",
   "execution_count": null,
   "id": "a890fe4e-d990-4ce3-995e-66279a3c8ee7",
   "metadata": {},
   "outputs": [],
   "source": []
  },
  {
   "cell_type": "code",
   "execution_count": null,
   "id": "e6a0f01a-1353-4bbd-96bc-4a842ebc653a",
   "metadata": {},
   "outputs": [],
   "source": []
  }
 ],
 "metadata": {
  "kernelspec": {
   "display_name": "Python 3 (ipykernel)",
   "language": "python",
   "name": "python3"
  },
  "language_info": {
   "codemirror_mode": {
    "name": "ipython",
    "version": 3
   },
   "file_extension": ".py",
   "mimetype": "text/x-python",
   "name": "python",
   "nbconvert_exporter": "python",
   "pygments_lexer": "ipython3",
   "version": "3.11.7"
  }
 },
 "nbformat": 4,
 "nbformat_minor": 5
}
